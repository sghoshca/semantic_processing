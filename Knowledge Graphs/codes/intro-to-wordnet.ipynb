{
 "cells": [
  {
   "cell_type": "raw",
   "id": "freelance-naples",
   "metadata": {},
   "source": [
    "----------------------------------------------------------------------\n",
    "Filename : intro-to-wordnet.ipynb\n",
    "Author   : Jaidev Deshpande\n",
    "Purpose  : Understanding Wordnet functionalities\n",
    "Libraries: nltk\n",
    "----------------------------------------------------------------------"
   ]
  },
  {
   "cell_type": "markdown",
   "id": "anonymous-canadian",
   "metadata": {},
   "source": [
    "## [WordNet®](https://wordnet.princeton.edu/) Tutorial\n",
    "\n",
    "### Navigating Wornet Relationships"
   ]
  },
  {
   "cell_type": "code",
   "execution_count": 1,
   "id": "widespread-traveler",
   "metadata": {},
   "outputs": [
    {
     "name": "stdout",
     "output_type": "stream",
     "text": [
      "Collecting nltk\n",
      "  Downloading nltk-3.8.1-py3-none-any.whl (1.5 MB)\n",
      "     ---------------------------------------- 0.0/1.5 MB ? eta -:--:--\n",
      "     --- ------------------------------------ 0.1/1.5 MB 4.3 MB/s eta 0:00:01\n",
      "     -------------------------- ------------- 1.0/1.5 MB 10.3 MB/s eta 0:00:01\n",
      "     ---------------------------------------- 1.5/1.5 MB 12.0 MB/s eta 0:00:00\n",
      "Requirement already satisfied: click in c:\\users\\ghosh\\appdata\\local\\programs\\python\\python311\\lib\\site-packages (from nltk) (8.1.7)\n",
      "Requirement already satisfied: joblib in c:\\users\\ghosh\\appdata\\local\\programs\\python\\python311\\lib\\site-packages (from nltk) (1.3.2)\n",
      "Collecting regex>=2021.8.3 (from nltk)\n",
      "  Obtaining dependency information for regex>=2021.8.3 from https://files.pythonhosted.org/packages/de/cd/d80c9e284ae6c1b2172dacf0651d25b78ee1f7efbc12d74ea7b87c766263/regex-2023.8.8-cp311-cp311-win_amd64.whl.metadata\n",
      "  Downloading regex-2023.8.8-cp311-cp311-win_amd64.whl.metadata (42 kB)\n",
      "     ---------------------------------------- 0.0/42.0 kB ? eta -:--:--\n",
      "     ---------------------------------------- 42.0/42.0 kB ? eta 0:00:00\n",
      "Requirement already satisfied: tqdm in c:\\users\\ghosh\\appdata\\local\\programs\\python\\python311\\lib\\site-packages (from nltk) (4.66.1)\n",
      "Requirement already satisfied: colorama in c:\\users\\ghosh\\appdata\\roaming\\python\\python311\\site-packages (from click->nltk) (0.4.6)\n",
      "Downloading regex-2023.8.8-cp311-cp311-win_amd64.whl (268 kB)\n",
      "   ---------------------------------------- 0.0/268.3 kB ? eta -:--:--\n",
      "   --------------------------------------- 268.3/268.3 kB 16.1 MB/s eta 0:00:00\n",
      "Installing collected packages: regex, nltk\n",
      "Successfully installed nltk-3.8.1 regex-2023.8.8\n"
     ]
    }
   ],
   "source": [
    "!pip install nltk"
   ]
  },
  {
   "cell_type": "code",
   "execution_count": 2,
   "id": "vocational-clearance",
   "metadata": {},
   "outputs": [],
   "source": [
    "from nltk import download"
   ]
  },
  {
   "cell_type": "code",
   "execution_count": 3,
   "id": "sensitive-albany",
   "metadata": {},
   "outputs": [
    {
     "name": "stderr",
     "output_type": "stream",
     "text": [
      "[nltk_data] Downloading package wordnet to\n",
      "[nltk_data]     C:\\Users\\ghosh\\AppData\\Roaming\\nltk_data...\n"
     ]
    },
    {
     "data": {
      "text/plain": [
       "True"
      ]
     },
     "execution_count": 3,
     "metadata": {},
     "output_type": "execute_result"
    }
   ],
   "source": [
    "download('wordnet')"
   ]
  },
  {
   "cell_type": "code",
   "execution_count": 4,
   "id": "weird-memory",
   "metadata": {},
   "outputs": [],
   "source": [
    "from nltk.corpus import wordnet"
   ]
  },
  {
   "cell_type": "code",
   "execution_count": 5,
   "id": "developing-failure",
   "metadata": {},
   "outputs": [
    {
     "data": {
      "text/plain": [
       "[Synset('tractor.n.01'), Synset('tractor.n.02')]"
      ]
     },
     "execution_count": 5,
     "metadata": {},
     "output_type": "execute_result"
    }
   ],
   "source": [
    "# Synsets\n",
    "\n",
    "tractor = wordnet.synsets('tractor')\n",
    "tractor"
   ]
  },
  {
   "cell_type": "code",
   "execution_count": 6,
   "id": "seasonal-hungary",
   "metadata": {},
   "outputs": [
    {
     "data": {
      "text/plain": [
       "['a wheeled vehicle with large wheels; used in farming and other applications',\n",
       " 'a truck that has a cab but no body; used for pulling large trailers or vans']"
      ]
     },
     "execution_count": 6,
     "metadata": {},
     "output_type": "execute_result"
    }
   ],
   "source": [
    "# Definitions of senses\n",
    "\n",
    "[syn.definition() for syn in tractor]"
   ]
  },
  {
   "cell_type": "code",
   "execution_count": 7,
   "id": "active-norwegian",
   "metadata": {},
   "outputs": [
    {
     "data": {
      "text/plain": [
       "[Synset('self-propelled_vehicle.n.01')]"
      ]
     },
     "execution_count": 7,
     "metadata": {},
     "output_type": "execute_result"
    }
   ],
   "source": [
    "# Hypernyms: Relation between a concept and its superordinate\n",
    "\n",
    "tractor = wordnet.synset('tractor.n.01')\n",
    "tractor.hypernyms()"
   ]
  },
  {
   "cell_type": "code",
   "execution_count": 8,
   "id": "arctic-customer",
   "metadata": {},
   "outputs": [
    {
     "data": {
      "text/plain": [
       "[Synset('wheeled_vehicle.n.01')]"
      ]
     },
     "execution_count": 8,
     "metadata": {},
     "output_type": "execute_result"
    }
   ],
   "source": [
    "self_propelled_vehicle = wordnet.synset('self-propelled_vehicle.n.01')\n",
    "self_propelled_vehicle.hypernyms()"
   ]
  },
  {
   "cell_type": "code",
   "execution_count": null,
   "id": "invalid-lease",
   "metadata": {},
   "outputs": [],
   "source": [
    "# Meronyms: Relation between a part and its whole\n",
    "\n",
    "wheeled_vehicle = wordnet.synset('wheeled_vehicle.n.01')\n",
    "wheeled_vehicle.part_meronyms()"
   ]
  },
  {
   "cell_type": "code",
   "execution_count": null,
   "id": "brown-weekend",
   "metadata": {},
   "outputs": [],
   "source": [
    "# Hyponyms: Relation between a concept and its subordinate\n",
    "\n",
    "wheeled_vehicle.hyponyms()"
   ]
  },
  {
   "cell_type": "code",
   "execution_count": null,
   "id": "theoretical-bargain",
   "metadata": {},
   "outputs": [],
   "source": [
    "# Holonyms: Relation between whole and its parts\n",
    "\n",
    "axle = wordnet.synset('axle.n.01')\n",
    "axle.part_holonyms()"
   ]
  },
  {
   "cell_type": "code",
   "execution_count": null,
   "id": "identical-shoulder",
   "metadata": {},
   "outputs": [],
   "source": [
    "self_propelled_vehicle.hyponyms()"
   ]
  },
  {
   "cell_type": "code",
   "execution_count": null,
   "id": "quick-strengthening",
   "metadata": {},
   "outputs": [],
   "source": [
    "motor_vehicle = wordnet.synset('motor_vehicle.n.01')\n",
    "motor_vehicle.hyponyms()"
   ]
  },
  {
   "cell_type": "code",
   "execution_count": null,
   "id": "egyptian-appliance",
   "metadata": {},
   "outputs": [],
   "source": [
    "car = wordnet.synset('car.n.01')\n",
    "car.part_meronyms()"
   ]
  },
  {
   "cell_type": "code",
   "execution_count": null,
   "id": "civic-worst",
   "metadata": {},
   "outputs": [],
   "source": []
  }
 ],
 "metadata": {
  "kernelspec": {
   "display_name": "Python 3",
   "language": "python",
   "name": "python3"
  },
  "language_info": {
   "codemirror_mode": {
    "name": "ipython",
    "version": 3
   },
   "file_extension": ".py",
   "mimetype": "text/x-python",
   "name": "python",
   "nbconvert_exporter": "python",
   "pygments_lexer": "ipython3",
   "version": "3.11.4"
  }
 },
 "nbformat": 4,
 "nbformat_minor": 5
}
